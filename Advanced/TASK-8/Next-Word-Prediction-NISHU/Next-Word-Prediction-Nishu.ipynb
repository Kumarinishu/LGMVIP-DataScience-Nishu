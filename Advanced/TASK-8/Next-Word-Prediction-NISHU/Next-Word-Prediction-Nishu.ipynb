{
 "cells": [
  {
   "cell_type": "markdown",
   "id": "bd6efad7",
   "metadata": {},
   "source": [
    "# LetsGrowMore (LGMVIP) - \"DATA SCIENCE INTERN\"\n",
    "# LGMVIP March-22\n",
    "\n",
    "# AUTHOR - NISHU KUMARI\n",
    "\n",
    "## Advanced Level Task\n",
    "\n",
    "### TASK-8- Next Word Prediction :\n",
    "Using Tensorflow and Keras library train a RNN, to predict the next word. "
   ]
  },
  {
   "cell_type": "markdown",
   "id": "3429eef2",
   "metadata": {},
   "source": [
    "### Dataset link : https://drive.google.com/file/d/1GeUzNVqiixXHnTl8oNiQ2W3CynX_lsu2/view"
   ]
  },
  {
   "cell_type": "markdown",
   "id": "2386166b",
   "metadata": {},
   "source": [
    "### Importing Libraries"
   ]
  },
  {
   "cell_type": "code",
   "execution_count": 1,
   "id": "2a9e229d",
   "metadata": {},
   "outputs": [],
   "source": [
    "#Importing packages\n",
    "import numpy as np\n",
    "np.random.seed(42)\n",
    "import tensorflow as tf\n",
    "tf.random.set_seed(42)\n",
    " \n",
    "from tensorflow.keras.models import Sequential, load_model\n",
    "from tensorflow.keras.layers import Dense, Activation\n",
    "from tensorflow.keras.layers import LSTM, Dropout\n",
    "from tensorflow.keras.layers import TimeDistributed\n",
    "from tensorflow.keras.layers import Dense, Activation, Dropout, RepeatVector\n",
    "from tensorflow.keras.optimizers import  RMSprop\n",
    "import matplotlib.pyplot as plt\n",
    "import pickle\n",
    "import heapq"
   ]
  },
  {
   "cell_type": "markdown",
   "id": "6babb355",
   "metadata": {},
   "source": [
    "### Loading the data"
   ]
  },
  {
   "cell_type": "code",
   "execution_count": 13,
   "id": "0d11efd9",
   "metadata": {},
   "outputs": [
    {
     "name": "stdout",
     "output_type": "stream",
     "text": [
      "corpus length: 581888\n"
     ]
    }
   ],
   "source": [
    "#Loading the data\n",
    "path = 'C:/Users/Nishant/Downloads/LGMVIP-DataScience/Advanced/TASK-8/Next-Word-Prediction-NISHU/sample text/1661-0.txt'\n",
    "text = open(path,encoding = \"utf8\").read().lower()\n",
    "print('corpus length:', len(text))"
   ]
  },
  {
   "cell_type": "markdown",
   "id": "34de126c",
   "metadata": {},
   "source": [
    "### Data Preprocessing"
   ]
  },
  {
   "cell_type": "code",
   "execution_count": 14,
   "id": "79279329",
   "metadata": {},
   "outputs": [
    {
     "name": "stdout",
     "output_type": "stream",
     "text": [
      "unique chars: 73\n"
     ]
    }
   ],
   "source": [
    "#Data Preprocessing\n",
    "character = sorted(list(set(text)))\n",
    "char_indices = dict((c, i) for i, c in enumerate(character))\n",
    "indices_char = dict((i, c) for i, c in enumerate(character))\n",
    " \n",
    "print(f'unique chars: {len(character)}')"
   ]
  },
  {
   "cell_type": "code",
   "execution_count": 15,
   "id": "1c9d8e9e",
   "metadata": {},
   "outputs": [
    {
     "name": "stdout",
     "output_type": "stream",
     "text": [
      "num training examples: 193950\n"
     ]
    }
   ],
   "source": [
    "#chunk 40 characters with 3 sequences\n",
    "seq_len = 40\n",
    "step = 3\n",
    "sentences = []\n",
    "next_chars = []\n",
    "for i in range(0, len(text) - seq_len, step):\n",
    "    sentences.append(text[i: i + seq_len ])\n",
    "    next_chars.append(text[i + seq_len])\n",
    "print(f'num training examples: {len(sentences)}')"
   ]
  },
  {
   "cell_type": "code",
   "execution_count": 16,
   "id": "9a24d796",
   "metadata": {},
   "outputs": [
    {
     "name": "stderr",
     "output_type": "stream",
     "text": [
      "C:\\Users\\Nishant\\AppData\\Local\\Temp/ipykernel_8744/364776777.py:3: DeprecationWarning: `np.bool` is a deprecated alias for the builtin `bool`. To silence this warning, use `bool` by itself. Doing this will not modify any behavior and is safe. If you specifically wanted the numpy scalar type, use `np.bool_` here.\n",
      "Deprecated in NumPy 1.20; for more details and guidance: https://numpy.org/devdocs/release/1.20.0-notes.html#deprecations\n",
      "  X = np.zeros((len(sentences), seq_len, len(character)), dtype=np.bool)\n",
      "C:\\Users\\Nishant\\AppData\\Local\\Temp/ipykernel_8744/364776777.py:4: DeprecationWarning: `np.bool` is a deprecated alias for the builtin `bool`. To silence this warning, use `bool` by itself. Doing this will not modify any behavior and is safe. If you specifically wanted the numpy scalar type, use `np.bool_` here.\n",
      "Deprecated in NumPy 1.20; for more details and guidance: https://numpy.org/devdocs/release/1.20.0-notes.html#deprecations\n",
      "  y = np.zeros((len(sentences), len(character)), dtype=np.bool)\n"
     ]
    },
    {
     "data": {
      "text/plain": [
       "'e'"
      ]
     },
     "execution_count": 16,
     "metadata": {},
     "output_type": "execute_result"
    }
   ],
   "source": [
    "# generating our features and labels\n",
    "#one hot encoding\n",
    "X = np.zeros((len(sentences), seq_len, len(character)), dtype=np.bool)\n",
    "y = np.zeros((len(sentences), len(character)), dtype=np.bool)\n",
    "for i, sentence in enumerate(sentences):\n",
    "    for t, char in enumerate(sentence):\n",
    "        X[i, t, char_indices[char]] = 1\n",
    "    y[i, char_indices[next_chars[i]]] = 1\n",
    "\n",
    "sentences[124]\n",
    "next_chars[100]\n"
   ]
  },
  {
   "cell_type": "code",
   "execution_count": 17,
   "id": "3d69f2bf",
   "metadata": {},
   "outputs": [
    {
     "data": {
      "text/plain": [
       "array([False, False, False, False, False, False, False, False, False,\n",
       "       False, False, False, False, False, False, False, False, False,\n",
       "       False, False, False, False, False, False, False, False, False,\n",
       "       False, False, False, False, False, False, False, False, False,\n",
       "       False, False, False, False, False, False, False, False, False,\n",
       "       False, False, False, False, False, False, False, False, False,\n",
       "       False, False, False, False, False, False, False, False, False,\n",
       "       False, False, False, False, False, False, False, False, False,\n",
       "        True])"
      ]
     },
     "execution_count": 17,
     "metadata": {},
     "output_type": "execute_result"
    }
   ],
   "source": [
    "#one hot encoded data\n",
    "X[0][0]"
   ]
  },
  {
   "cell_type": "code",
   "execution_count": 18,
   "id": "2c33ffab",
   "metadata": {},
   "outputs": [
    {
     "data": {
      "text/plain": [
       "array([False, False, False, False, False, False, False, False, False,\n",
       "       False, False, False, False, False, False, False, False, False,\n",
       "       False, False, False, False, False, False, False, False, False,\n",
       "       False, False, False, False, False, False, False, False, False,\n",
       "       False, False, False, False, False, False, False, False, False,\n",
       "       False, False, False, False, False, False,  True, False, False,\n",
       "       False, False, False, False, False, False, False, False, False,\n",
       "       False, False, False, False, False, False, False, False, False,\n",
       "       False])"
      ]
     },
     "execution_count": 18,
     "metadata": {},
     "output_type": "execute_result"
    }
   ],
   "source": [
    "#one hot encoded data\n",
    "y[0]"
   ]
  },
  {
   "cell_type": "code",
   "execution_count": 19,
   "id": "76d09bde",
   "metadata": {},
   "outputs": [
    {
     "data": {
      "text/plain": [
       "(193950, 40, 73)"
      ]
     },
     "execution_count": 19,
     "metadata": {},
     "output_type": "execute_result"
    }
   ],
   "source": [
    "X.shape"
   ]
  },
  {
   "cell_type": "code",
   "execution_count": 22,
   "id": "4791ae26",
   "metadata": {},
   "outputs": [
    {
     "data": {
      "text/plain": [
       "(193950, 73)"
      ]
     },
     "execution_count": 22,
     "metadata": {},
     "output_type": "execute_result"
    }
   ],
   "source": [
    "y.shape"
   ]
  },
  {
   "cell_type": "markdown",
   "id": "8488da27",
   "metadata": {},
   "source": [
    "### Creating the model"
   ]
  },
  {
   "cell_type": "code",
   "execution_count": 23,
   "id": "d9b3b0fc",
   "metadata": {},
   "outputs": [],
   "source": [
    "# Creating the model\n",
    "model = Sequential()\n",
    "model.add(LSTM(128, input_shape=(seq_len, len(character))))\n",
    "model.add(Dense(len(character)))\n",
    "model.add(Activation('softmax'))"
   ]
  },
  {
   "cell_type": "markdown",
   "id": "e1b46661",
   "metadata": {},
   "source": [
    "### Model summary"
   ]
  },
  {
   "cell_type": "code",
   "execution_count": 25,
   "id": "1efaff79",
   "metadata": {},
   "outputs": [
    {
     "name": "stdout",
     "output_type": "stream",
     "text": [
      "Model: \"sequential\"\n",
      "_________________________________________________________________\n",
      " Layer (type)                Output Shape              Param #   \n",
      "=================================================================\n",
      " lstm (LSTM)                 (None, 128)               103424    \n",
      "                                                                 \n",
      " dense (Dense)               (None, 73)                9417      \n",
      "                                                                 \n",
      " activation (Activation)     (None, 73)                0         \n",
      "                                                                 \n",
      "=================================================================\n",
      "Total params: 112,841\n",
      "Trainable params: 112,841\n",
      "Non-trainable params: 0\n",
      "_________________________________________________________________\n"
     ]
    }
   ],
   "source": [
    "model.summary()"
   ]
  },
  {
   "cell_type": "markdown",
   "id": "8d47fa8a",
   "metadata": {},
   "source": [
    "### Training our model"
   ]
  },
  {
   "cell_type": "code",
   "execution_count": 27,
   "id": "863d56a1",
   "metadata": {},
   "outputs": [
    {
     "name": "stdout",
     "output_type": "stream",
     "text": [
      "Epoch 1/7\n",
      "1501/1501 [==============================] - 125s 82ms/step - loss: 1.5208 - accuracy: 0.5422 - val_loss: 2.0332 - val_accuracy: 0.4711\n",
      "Epoch 2/7\n",
      "1501/1501 [==============================] - 110s 73ms/step - loss: 1.4656 - accuracy: 0.5572 - val_loss: 2.0100 - val_accuracy: 0.4804\n",
      "Epoch 3/7\n",
      "1501/1501 [==============================] - 111s 74ms/step - loss: 1.4357 - accuracy: 0.5647 - val_loss: 2.0144 - val_accuracy: 0.4660\n",
      "Epoch 4/7\n",
      "1501/1501 [==============================] - 111s 74ms/step - loss: 1.4126 - accuracy: 0.5717 - val_loss: 1.9813 - val_accuracy: 0.4794\n",
      "Epoch 5/7\n",
      "1501/1501 [==============================] - 112s 75ms/step - loss: 1.3944 - accuracy: 0.5765 - val_loss: 1.9717 - val_accuracy: 0.4789\n",
      "Epoch 6/7\n",
      "1501/1501 [==============================] - 115s 76ms/step - loss: 1.3785 - accuracy: 0.5801 - val_loss: 1.9853 - val_accuracy: 0.4876\n",
      "Epoch 7/7\n",
      "1501/1501 [==============================] - 112s 75ms/step - loss: 1.3672 - accuracy: 0.5842 - val_loss: 2.0024 - val_accuracy: 0.4670\n"
     ]
    }
   ],
   "source": [
    "# Training our model\n",
    "optimizer = RMSprop(learning_rate=0.01)\n",
    "model.compile(loss='categorical_crossentropy', optimizer=optimizer, metrics=['accuracy'])\n",
    "history = model.fit(X, y,\n",
    "                    validation_split=0.01, \n",
    "                    batch_size=128,\n",
    "                    epochs=7, \n",
    "                    shuffle=True).history"
   ]
  },
  {
   "cell_type": "markdown",
   "id": "956a9c90",
   "metadata": {},
   "source": [
    "### saving our model"
   ]
  },
  {
   "cell_type": "code",
   "execution_count": 28,
   "id": "44902adb",
   "metadata": {},
   "outputs": [],
   "source": [
    "#saving our model\n",
    "model.save('NW_keras_model.h5')\n",
    "pickle.dump(history, open(\"history.p\", \"wb\"))"
   ]
  },
  {
   "cell_type": "markdown",
   "id": "6284b753",
   "metadata": {},
   "source": [
    "### loading our model"
   ]
  },
  {
   "cell_type": "code",
   "execution_count": 29,
   "id": "190125b7",
   "metadata": {},
   "outputs": [],
   "source": [
    "#loading our model\n",
    "model = load_model('NW_keras_model.h5')\n",
    "history = pickle.load(open(\"history.p\", \"rb\"))"
   ]
  },
  {
   "cell_type": "markdown",
   "id": "a466c98e",
   "metadata": {},
   "source": [
    "### Model Evaluation "
   ]
  },
  {
   "cell_type": "code",
   "execution_count": 30,
   "id": "26237ce8",
   "metadata": {},
   "outputs": [
    {
     "name": "stdout",
     "output_type": "stream",
     "text": [
      "6061/6061 [==============================] - 65s 10ms/step - loss: 1.3228 - accuracy: 0.5964\n",
      "Test Loss 1.3227908611297607\n",
      "Test Accuracy 0.5963547229766846\n"
     ]
    }
   ],
   "source": [
    "#Model Evaluation\n",
    "loss_and_acc=model.evaluate(X,y)\n",
    "print(\"Test Loss\", loss_and_acc[0])\n",
    "print(\"Test Accuracy\", loss_and_acc[1])"
   ]
  },
  {
   "cell_type": "markdown",
   "id": "f4304f7a",
   "metadata": {},
   "source": [
    "### Plotting training and validation plots"
   ]
  },
  {
   "cell_type": "code",
   "execution_count": 33,
   "id": "568a0bb2",
   "metadata": {},
   "outputs": [
    {
     "data": {
      "image/png": "[encoded data removed]",
      "text/plain": [
       "<Figure size 1440x432 with 2 Axes>"
      ]
     },
     "metadata": {
      "needs_background": "light"
     },
     "output_type": "display_data"
    }
   ],
   "source": [
    "acc = history['accuracy']\n",
    "val_acc = history['val_accuracy']\n",
    "loss = history['loss']\n",
    "val_loss = history['val_loss']\n",
    "epochs = range(len(acc))\n",
    "\n",
    "\n",
    "fig, ax = plt.subplots(nrows=1, ncols=2, figsize=(20, 6))\n",
    "ax[0].plot(epochs, acc, 'y', label='Training accuracy')\n",
    "ax[0].plot(epochs, val_acc, 'g', label='Validation accuracy')\n",
    "ax[0].legend(loc=0)\n",
    "ax[1].plot(epochs, loss, 'y', label='Training loss')\n",
    "ax[1].plot(epochs, val_loss, 'g', label='Validation loss')\n",
    "ax[1].legend(loc=0)\n",
    "\n",
    "plt.suptitle('Training and validation')\n",
    "plt.show()"
   ]
  },
  {
   "cell_type": "code",
   "execution_count": 34,
   "id": "a25049ef",
   "metadata": {},
   "outputs": [
    {
     "data": {
      "text/plain": [
       "array([[[0., 0., 0., ..., 0., 0., 0.],\n",
       "        [0., 0., 0., ..., 0., 0., 0.],\n",
       "        [0., 0., 0., ..., 0., 0., 0.],\n",
       "        ...,\n",
       "        [0., 0., 0., ..., 0., 0., 0.],\n",
       "        [0., 0., 0., ..., 0., 0., 0.],\n",
       "        [0., 0., 0., ..., 0., 0., 0.]]])"
      ]
     },
     "execution_count": 34,
     "metadata": {},
     "output_type": "execute_result"
    }
   ],
   "source": [
    "def prepare_input(text):\n",
    "    x = np.zeros((1, seq_len, len(character)))\n",
    "    for t, char in enumerate(text):\n",
    "        x[0, t, char_indices[char]] = 1.\n",
    "        \n",
    "    return x\n",
    "\n",
    "prepare_input(\"This is an example of input of our model\".lower())"
   ]
  },
  {
   "cell_type": "markdown",
   "id": "ba913f24",
   "metadata": {},
   "source": [
    "### functions to get next probable characters"
   ]
  },
  {
   "cell_type": "code",
   "execution_count": 35,
   "id": "acf44484",
   "metadata": {},
   "outputs": [],
   "source": [
    "#functions to get next probable characters\n",
    "def sample(preds, top_n=3):\n",
    "    preds = np.asarray(preds).astype('float64')\n",
    "    preds = np.log(preds)\n",
    "    exp_preds = np.exp(preds)\n",
    "    preds = exp_preds / np.sum(exp_preds)\n",
    "    \n",
    "    return heapq.nlargest(top_n, range(len(preds)), preds.take)"
   ]
  },
  {
   "cell_type": "code",
   "execution_count": 36,
   "id": "57d30f0d",
   "metadata": {},
   "outputs": [],
   "source": [
    "def predict_completion(text):\n",
    "    original_text = text\n",
    "    generated = text\n",
    "    completion = ''\n",
    "    while True:\n",
    "        x = prepare_input(text)\n",
    "        preds = model.predict(x, verbose=0)[0]\n",
    "        next_index = sample(preds, top_n=1)[0]\n",
    "        next_char = indices_char[next_index]\n",
    "        text = text[1:] + next_char\n",
    "        completion += next_char\n",
    "        \n",
    "        if len(original_text + completion) + 2 > len(original_text) and next_char == ' ':\n",
    "            return completion"
   ]
  },
  {
   "cell_type": "code",
   "execution_count": 37,
   "id": "35abaf79",
   "metadata": {},
   "outputs": [],
   "source": [
    "def predict_completions(text, n=3):\n",
    "    x = prepare_input(text)\n",
    "    preds = model.predict(x, verbose=0)[0]\n",
    "    next_indices = sample(preds, n)\n",
    "    return [indices_char[idx] + predict_completion(text[1:] + indices_char[idx]) for idx in next_indices]"
   ]
  },
  {
   "cell_type": "markdown",
   "id": "e7282af4",
   "metadata": {},
   "source": [
    "### Prediction"
   ]
  },
  {
   "cell_type": "code",
   "execution_count": 38,
   "id": "2efa9355",
   "metadata": {},
   "outputs": [],
   "source": [
    "#Prediction\n",
    "quotes = [   \n",
    "    \"Deep learning is subset of machine learning,which is essentially a neural network with three or more layers.\",\n",
    "    \"Machine learning  is the study of computer algorithms that improve automatically through experience and by the use of data.\",\n",
    "    \"It is not a lack of love, but a lack of friendship that makes unhappy marriages.\",\n",
    "    \"Recurrent neural network (RNN) is a type of artificial neural network which uses sequential data or time series data.\",\n",
    "    \"Thanks for spending your precious time to view my work.\"  \n",
    "    \n",
    "]"
   ]
  },
  {
   "cell_type": "code",
   "execution_count": 39,
   "id": "a694ddd6",
   "metadata": {},
   "outputs": [
    {
     "name": "stdout",
     "output_type": "stream",
     "text": [
      "deep learning is subset of machine learn\n",
      "[' a ', 'ed ', ', ', 'g ', 'ing ']\n",
      "\n",
      "machine learning  is the study of comput\n",
      "['ing ', 'e ', 'heres ', 'y. ', 's. ']\n",
      "\n",
      "it is not a lack of love, but a lack of \n",
      "['the ', 'a ', 'her ', 'considerable ', 'men ']\n",
      "\n",
      "recurrent neural network (rnn) is a type\n",
      "['whow ', ' the ', 'hant ', '\\nholmes ', 'le ']\n",
      "\n",
      "thanks for spending your precious time t\n",
      "['he ', 'o ', 'ell ', 'ime ', 'wo ']\n",
      "\n"
     ]
    }
   ],
   "source": [
    "for q in quotes:\n",
    "    seq = q[:40].lower()\n",
    "    print(seq)\n",
    "    print(predict_completions(seq, 5))\n",
    "    print()"
   ]
  },
  {
   "cell_type": "markdown",
   "id": "63d4bd97",
   "metadata": {},
   "source": [
    "# THANK YOU!!:))"
   ]
  },
  {
   "cell_type": "code",
   "execution_count": null,
   "id": "9ea1b9e9",
   "metadata": {},
   "outputs": [],
   "source": []
  }
 ],
 "metadata": {
  "kernelspec": {
   "display_name": "Python 3 (ipykernel)",
   "language": "python",
   "name": "python3"
  },
  "language_info": {
   "codemirror_mode": {
    "name": "ipython",
    "version": 3
   },
   "file_extension": ".py",
   "mimetype": "text/x-python",
   "name": "python",
   "nbconvert_exporter": "python",
   "pygments_lexer": "ipython3",
   "version": "3.8.5"
  }
 },
 "nbformat": 4,
 "nbformat_minor": 5
}
