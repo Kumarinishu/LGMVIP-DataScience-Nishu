{
 "cells": [
  {
   "cell_type": "markdown",
   "id": "7e11b091",
   "metadata": {},
   "source": [
    "# Let's Grow More(LGMVIP) - \"DATA SCIENCE INTERN\"\n",
    "\n",
    "## LGMVIP March-22"
   ]
  },
  {
   "cell_type": "markdown",
   "id": "e6417809",
   "metadata": {},
   "source": [
    "## AUTHOR - NISHU KUMARI"
   ]
  },
  {
   "cell_type": "markdown",
   "id": "74dc7afc",
   "metadata": {},
   "source": [
    "### BEGINNER LEVEL TASK"
   ]
  },
  {
   "cell_type": "markdown",
   "id": "0d431b43",
   "metadata": {},
   "source": [
    "### TASK-2 - Stock Market Prediction And Forecasting Using Stacked LSTM"
   ]
  },
  {
   "cell_type": "markdown",
   "id": "a3a62780",
   "metadata": {},
   "source": [
    "#### DatasetLink  : https://raw.githubusercontent.com/mwitiderrick/stockprice/master/NSE-TATAGLOBAL.csv"
   ]
  },
  {
   "cell_type": "markdown",
   "id": "e8fb8b16",
   "metadata": {},
   "source": [
    "##### Importing Libraries"
   ]
  },
  {
   "cell_type": "code",
   "execution_count": 1,
   "id": "93e7ea4d",
   "metadata": {},
   "outputs": [],
   "source": [
    "import numpy as np\n",
    "import pandas as pd\n",
    "import datetime\n",
    "import math\n",
    "import matplotlib.pyplot as plt\n",
    "import seaborn as sns\n",
    "from sklearn.preprocessing import MinMaxScaler\n",
    "from tensorflow.keras.models import Sequential\n",
    "from tensorflow.keras.layers import Dense , LSTM\n",
    "from sklearn.metrics import mean_squared_error\n"
   ]
  },
  {
   "cell_type": "code",
   "execution_count": 2,
   "id": "2f5e66fa",
   "metadata": {},
   "outputs": [],
   "source": [
    "Dataset_link='https://raw.githubusercontent.com/mwitiderrick/stockprice/master/NSE-TATAGLOBAL.csv'"
   ]
  },
  {
   "cell_type": "code",
   "execution_count": 3,
   "id": "1042c0ac",
   "metadata": {},
   "outputs": [
    {
     "data": {
      "text/html": [
       "<div>\n",
       "<style scoped>\n",
       "    .dataframe tbody tr th:only-of-type {\n",
       "        vertical-align: middle;\n",
       "    }\n",
       "\n",
       "    .dataframe tbody tr th {\n",
       "        vertical-align: top;\n",
       "    }\n",
       "\n",
       "    .dataframe thead th {\n",
       "        text-align: right;\n",
       "    }\n",
       "</style>\n",
       "<table border=\"1\" class=\"dataframe\">\n",
       "  <thead>\n",
       "    <tr style=\"text-align: right;\">\n",
       "      <th></th>\n",
       "      <th>Date</th>\n",
       "      <th>Open</th>\n",
       "      <th>High</th>\n",
       "      <th>Low</th>\n",
       "      <th>Last</th>\n",
       "      <th>Close</th>\n",
       "      <th>Total Trade Quantity</th>\n",
       "      <th>Turnover (Lacs)</th>\n",
       "    </tr>\n",
       "  </thead>\n",
       "  <tbody>\n",
       "    <tr>\n",
       "      <th>0</th>\n",
       "      <td>2018-09-28</td>\n",
       "      <td>234.05</td>\n",
       "      <td>235.95</td>\n",
       "      <td>230.20</td>\n",
       "      <td>233.50</td>\n",
       "      <td>233.75</td>\n",
       "      <td>3069914</td>\n",
       "      <td>7162.35</td>\n",
       "    </tr>\n",
       "    <tr>\n",
       "      <th>1</th>\n",
       "      <td>2018-09-27</td>\n",
       "      <td>234.55</td>\n",
       "      <td>236.80</td>\n",
       "      <td>231.10</td>\n",
       "      <td>233.80</td>\n",
       "      <td>233.25</td>\n",
       "      <td>5082859</td>\n",
       "      <td>11859.95</td>\n",
       "    </tr>\n",
       "    <tr>\n",
       "      <th>2</th>\n",
       "      <td>2018-09-26</td>\n",
       "      <td>240.00</td>\n",
       "      <td>240.00</td>\n",
       "      <td>232.50</td>\n",
       "      <td>235.00</td>\n",
       "      <td>234.25</td>\n",
       "      <td>2240909</td>\n",
       "      <td>5248.60</td>\n",
       "    </tr>\n",
       "    <tr>\n",
       "      <th>3</th>\n",
       "      <td>2018-09-25</td>\n",
       "      <td>233.30</td>\n",
       "      <td>236.75</td>\n",
       "      <td>232.00</td>\n",
       "      <td>236.25</td>\n",
       "      <td>236.10</td>\n",
       "      <td>2349368</td>\n",
       "      <td>5503.90</td>\n",
       "    </tr>\n",
       "    <tr>\n",
       "      <th>4</th>\n",
       "      <td>2018-09-24</td>\n",
       "      <td>233.55</td>\n",
       "      <td>239.20</td>\n",
       "      <td>230.75</td>\n",
       "      <td>234.00</td>\n",
       "      <td>233.30</td>\n",
       "      <td>3423509</td>\n",
       "      <td>7999.55</td>\n",
       "    </tr>\n",
       "    <tr>\n",
       "      <th>5</th>\n",
       "      <td>2018-09-21</td>\n",
       "      <td>235.00</td>\n",
       "      <td>237.00</td>\n",
       "      <td>227.95</td>\n",
       "      <td>233.75</td>\n",
       "      <td>234.60</td>\n",
       "      <td>5395319</td>\n",
       "      <td>12589.59</td>\n",
       "    </tr>\n",
       "    <tr>\n",
       "      <th>6</th>\n",
       "      <td>2018-09-19</td>\n",
       "      <td>235.95</td>\n",
       "      <td>237.20</td>\n",
       "      <td>233.45</td>\n",
       "      <td>234.60</td>\n",
       "      <td>234.90</td>\n",
       "      <td>1362058</td>\n",
       "      <td>3202.78</td>\n",
       "    </tr>\n",
       "    <tr>\n",
       "      <th>7</th>\n",
       "      <td>2018-09-18</td>\n",
       "      <td>237.90</td>\n",
       "      <td>239.25</td>\n",
       "      <td>233.50</td>\n",
       "      <td>235.50</td>\n",
       "      <td>235.05</td>\n",
       "      <td>2614794</td>\n",
       "      <td>6163.70</td>\n",
       "    </tr>\n",
       "    <tr>\n",
       "      <th>8</th>\n",
       "      <td>2018-09-17</td>\n",
       "      <td>233.15</td>\n",
       "      <td>238.00</td>\n",
       "      <td>230.25</td>\n",
       "      <td>236.40</td>\n",
       "      <td>236.60</td>\n",
       "      <td>3170894</td>\n",
       "      <td>7445.41</td>\n",
       "    </tr>\n",
       "    <tr>\n",
       "      <th>9</th>\n",
       "      <td>2018-09-14</td>\n",
       "      <td>223.45</td>\n",
       "      <td>236.70</td>\n",
       "      <td>223.30</td>\n",
       "      <td>234.00</td>\n",
       "      <td>233.95</td>\n",
       "      <td>6377909</td>\n",
       "      <td>14784.50</td>\n",
       "    </tr>\n",
       "  </tbody>\n",
       "</table>\n",
       "</div>"
      ],
      "text/plain": [
       "         Date    Open    High     Low    Last   Close  Total Trade Quantity  \\\n",
       "0  2018-09-28  234.05  235.95  230.20  233.50  233.75               3069914   \n",
       "1  2018-09-27  234.55  236.80  231.10  233.80  233.25               5082859   \n",
       "2  2018-09-26  240.00  240.00  232.50  235.00  234.25               2240909   \n",
       "3  2018-09-25  233.30  236.75  232.00  236.25  236.10               2349368   \n",
       "4  2018-09-24  233.55  239.20  230.75  234.00  233.30               3423509   \n",
       "5  2018-09-21  235.00  237.00  227.95  233.75  234.60               5395319   \n",
       "6  2018-09-19  235.95  237.20  233.45  234.60  234.90               1362058   \n",
       "7  2018-09-18  237.90  239.25  233.50  235.50  235.05               2614794   \n",
       "8  2018-09-17  233.15  238.00  230.25  236.40  236.60               3170894   \n",
       "9  2018-09-14  223.45  236.70  223.30  234.00  233.95               6377909   \n",
       "\n",
       "   Turnover (Lacs)  \n",
       "0          7162.35  \n",
       "1         11859.95  \n",
       "2          5248.60  \n",
       "3          5503.90  \n",
       "4          7999.55  \n",
       "5         12589.59  \n",
       "6          3202.78  \n",
       "7          6163.70  \n",
       "8          7445.41  \n",
       "9         14784.50  "
      ]
     },
     "execution_count": 3,
     "metadata": {},
     "output_type": "execute_result"
    }
   ],
   "source": [
    "df= pd.read_csv(Dataset_link, parse_dates=True,)\n",
    "df.reset_index()\n",
    "df.head(10)\n"
   ]
  },
  {
   "cell_type": "code",
   "execution_count": 4,
   "id": "a099db6c",
   "metadata": {},
   "outputs": [
    {
     "data": {
      "text/html": [
       "<div>\n",
       "<style scoped>\n",
       "    .dataframe tbody tr th:only-of-type {\n",
       "        vertical-align: middle;\n",
       "    }\n",
       "\n",
       "    .dataframe tbody tr th {\n",
       "        vertical-align: top;\n",
       "    }\n",
       "\n",
       "    .dataframe thead th {\n",
       "        text-align: right;\n",
       "    }\n",
       "</style>\n",
       "<table border=\"1\" class=\"dataframe\">\n",
       "  <thead>\n",
       "    <tr style=\"text-align: right;\">\n",
       "      <th></th>\n",
       "      <th>Date</th>\n",
       "      <th>Open</th>\n",
       "      <th>High</th>\n",
       "      <th>Low</th>\n",
       "      <th>Last</th>\n",
       "      <th>Close</th>\n",
       "      <th>Total Trade Quantity</th>\n",
       "      <th>Turnover (Lacs)</th>\n",
       "    </tr>\n",
       "  </thead>\n",
       "  <tbody>\n",
       "    <tr>\n",
       "      <th>1825</th>\n",
       "      <td>2011-05-20</td>\n",
       "      <td>96.20</td>\n",
       "      <td>97.90</td>\n",
       "      <td>96.15</td>\n",
       "      <td>97.10</td>\n",
       "      <td>97.30</td>\n",
       "      <td>391739</td>\n",
       "      <td>381.52</td>\n",
       "    </tr>\n",
       "    <tr>\n",
       "      <th>1832</th>\n",
       "      <td>2011-05-11</td>\n",
       "      <td>100.55</td>\n",
       "      <td>101.40</td>\n",
       "      <td>100.05</td>\n",
       "      <td>101.00</td>\n",
       "      <td>100.75</td>\n",
       "      <td>544025</td>\n",
       "      <td>548.29</td>\n",
       "    </tr>\n",
       "    <tr>\n",
       "      <th>1968</th>\n",
       "      <td>2010-10-22</td>\n",
       "      <td>132.00</td>\n",
       "      <td>132.00</td>\n",
       "      <td>128.05</td>\n",
       "      <td>129.20</td>\n",
       "      <td>128.55</td>\n",
       "      <td>1375503</td>\n",
       "      <td>1783.38</td>\n",
       "    </tr>\n",
       "    <tr>\n",
       "      <th>580</th>\n",
       "      <td>2016-05-30</td>\n",
       "      <td>118.00</td>\n",
       "      <td>119.65</td>\n",
       "      <td>117.30</td>\n",
       "      <td>117.90</td>\n",
       "      <td>117.95</td>\n",
       "      <td>692008</td>\n",
       "      <td>819.71</td>\n",
       "    </tr>\n",
       "    <tr>\n",
       "      <th>1110</th>\n",
       "      <td>2014-03-28</td>\n",
       "      <td>142.85</td>\n",
       "      <td>148.60</td>\n",
       "      <td>142.30</td>\n",
       "      <td>148.20</td>\n",
       "      <td>148.00</td>\n",
       "      <td>3912192</td>\n",
       "      <td>5700.15</td>\n",
       "    </tr>\n",
       "    <tr>\n",
       "      <th>650</th>\n",
       "      <td>2016-02-12</td>\n",
       "      <td>103.25</td>\n",
       "      <td>106.40</td>\n",
       "      <td>100.00</td>\n",
       "      <td>104.45</td>\n",
       "      <td>104.30</td>\n",
       "      <td>2087141</td>\n",
       "      <td>2152.86</td>\n",
       "    </tr>\n",
       "    <tr>\n",
       "      <th>1829</th>\n",
       "      <td>2011-05-16</td>\n",
       "      <td>99.15</td>\n",
       "      <td>99.85</td>\n",
       "      <td>97.00</td>\n",
       "      <td>97.45</td>\n",
       "      <td>97.25</td>\n",
       "      <td>210300</td>\n",
       "      <td>206.87</td>\n",
       "    </tr>\n",
       "    <tr>\n",
       "      <th>1033</th>\n",
       "      <td>2014-07-22</td>\n",
       "      <td>159.50</td>\n",
       "      <td>161.40</td>\n",
       "      <td>156.70</td>\n",
       "      <td>158.55</td>\n",
       "      <td>158.70</td>\n",
       "      <td>2700600</td>\n",
       "      <td>4300.12</td>\n",
       "    </tr>\n",
       "    <tr>\n",
       "      <th>1874</th>\n",
       "      <td>2011-03-09</td>\n",
       "      <td>94.75</td>\n",
       "      <td>98.20</td>\n",
       "      <td>94.05</td>\n",
       "      <td>96.20</td>\n",
       "      <td>96.35</td>\n",
       "      <td>3190205</td>\n",
       "      <td>3069.91</td>\n",
       "    </tr>\n",
       "    <tr>\n",
       "      <th>1323</th>\n",
       "      <td>2013-05-23</td>\n",
       "      <td>141.50</td>\n",
       "      <td>143.00</td>\n",
       "      <td>136.20</td>\n",
       "      <td>139.10</td>\n",
       "      <td>138.75</td>\n",
       "      <td>2023773</td>\n",
       "      <td>2803.32</td>\n",
       "    </tr>\n",
       "  </tbody>\n",
       "</table>\n",
       "</div>"
      ],
      "text/plain": [
       "            Date    Open    High     Low    Last   Close  \\\n",
       "1825  2011-05-20   96.20   97.90   96.15   97.10   97.30   \n",
       "1832  2011-05-11  100.55  101.40  100.05  101.00  100.75   \n",
       "1968  2010-10-22  132.00  132.00  128.05  129.20  128.55   \n",
       "580   2016-05-30  118.00  119.65  117.30  117.90  117.95   \n",
       "1110  2014-03-28  142.85  148.60  142.30  148.20  148.00   \n",
       "650   2016-02-12  103.25  106.40  100.00  104.45  104.30   \n",
       "1829  2011-05-16   99.15   99.85   97.00   97.45   97.25   \n",
       "1033  2014-07-22  159.50  161.40  156.70  158.55  158.70   \n",
       "1874  2011-03-09   94.75   98.20   94.05   96.20   96.35   \n",
       "1323  2013-05-23  141.50  143.00  136.20  139.10  138.75   \n",
       "\n",
       "      Total Trade Quantity  Turnover (Lacs)  \n",
       "1825                391739           381.52  \n",
       "1832                544025           548.29  \n",
       "1968               1375503          1783.38  \n",
       "580                 692008           819.71  \n",
       "1110               3912192          5700.15  \n",
       "650                2087141          2152.86  \n",
       "1829                210300           206.87  \n",
       "1033               2700600          4300.12  \n",
       "1874               3190205          3069.91  \n",
       "1323               2023773          2803.32  "
      ]
     },
     "execution_count": 4,
     "metadata": {},
     "output_type": "execute_result"
    }
   ],
   "source": [
    "df.sample(10)"
   ]
  },
  {
   "cell_type": "code",
   "execution_count": 5,
   "id": "1692186b",
   "metadata": {},
   "outputs": [
    {
     "data": {
      "text/plain": [
       "Index(['Date', 'Open', 'High', 'Low', 'Last', 'Close', 'Total Trade Quantity',\n",
       "       'Turnover (Lacs)'],\n",
       "      dtype='object')"
      ]
     },
     "execution_count": 5,
     "metadata": {},
     "output_type": "execute_result"
    }
   ],
   "source": [
    "df.columns"
   ]
  },
  {
   "cell_type": "code",
   "execution_count": 6,
   "id": "fbaa6798",
   "metadata": {},
   "outputs": [
    {
     "data": {
      "text/plain": [
       "(2035, 8)"
      ]
     },
     "execution_count": 6,
     "metadata": {},
     "output_type": "execute_result"
    }
   ],
   "source": [
    "df.shape"
   ]
  },
  {
   "cell_type": "code",
   "execution_count": 7,
   "id": "63733d7a",
   "metadata": {},
   "outputs": [
    {
     "name": "stdout",
     "output_type": "stream",
     "text": [
      "<class 'pandas.core.frame.DataFrame'>\n",
      "RangeIndex: 2035 entries, 0 to 2034\n",
      "Data columns (total 8 columns):\n",
      " #   Column                Non-Null Count  Dtype  \n",
      "---  ------                --------------  -----  \n",
      " 0   Date                  2035 non-null   object \n",
      " 1   Open                  2035 non-null   float64\n",
      " 2   High                  2035 non-null   float64\n",
      " 3   Low                   2035 non-null   float64\n",
      " 4   Last                  2035 non-null   float64\n",
      " 5   Close                 2035 non-null   float64\n",
      " 6   Total Trade Quantity  2035 non-null   int64  \n",
      " 7   Turnover (Lacs)       2035 non-null   float64\n",
      "dtypes: float64(6), int64(1), object(1)\n",
      "memory usage: 127.3+ KB\n"
     ]
    }
   ],
   "source": [
    "df.info()"
   ]
  },
  {
   "cell_type": "code",
   "execution_count": 8,
   "id": "85949bdb",
   "metadata": {},
   "outputs": [
    {
     "data": {
      "text/plain": [
       "Date                    0\n",
       "Open                    0\n",
       "High                    0\n",
       "Low                     0\n",
       "Last                    0\n",
       "Close                   0\n",
       "Total Trade Quantity    0\n",
       "Turnover (Lacs)         0\n",
       "dtype: int64"
      ]
     },
     "execution_count": 8,
     "metadata": {},
     "output_type": "execute_result"
    }
   ],
   "source": [
    "df.isnull().sum()"
   ]
  },
  {
   "cell_type": "code",
   "execution_count": 9,
   "id": "7eba3d8c",
   "metadata": {},
   "outputs": [
    {
     "data": {
      "text/html": [
       "<div>\n",
       "<style scoped>\n",
       "    .dataframe tbody tr th:only-of-type {\n",
       "        vertical-align: middle;\n",
       "    }\n",
       "\n",
       "    .dataframe tbody tr th {\n",
       "        vertical-align: top;\n",
       "    }\n",
       "\n",
       "    .dataframe thead th {\n",
       "        text-align: right;\n",
       "    }\n",
       "</style>\n",
       "<table border=\"1\" class=\"dataframe\">\n",
       "  <thead>\n",
       "    <tr style=\"text-align: right;\">\n",
       "      <th></th>\n",
       "      <th>Open</th>\n",
       "      <th>High</th>\n",
       "      <th>Low</th>\n",
       "      <th>Last</th>\n",
       "      <th>Close</th>\n",
       "      <th>Total Trade Quantity</th>\n",
       "      <th>Turnover (Lacs)</th>\n",
       "    </tr>\n",
       "  </thead>\n",
       "  <tbody>\n",
       "    <tr>\n",
       "      <th>count</th>\n",
       "      <td>2035.000000</td>\n",
       "      <td>2035.000000</td>\n",
       "      <td>2035.000000</td>\n",
       "      <td>2035.000000</td>\n",
       "      <td>2035.00000</td>\n",
       "      <td>2.035000e+03</td>\n",
       "      <td>2035.000000</td>\n",
       "    </tr>\n",
       "    <tr>\n",
       "      <th>mean</th>\n",
       "      <td>149.713735</td>\n",
       "      <td>151.992826</td>\n",
       "      <td>147.293931</td>\n",
       "      <td>149.474251</td>\n",
       "      <td>149.45027</td>\n",
       "      <td>2.335681e+06</td>\n",
       "      <td>3899.980565</td>\n",
       "    </tr>\n",
       "    <tr>\n",
       "      <th>std</th>\n",
       "      <td>48.664509</td>\n",
       "      <td>49.413109</td>\n",
       "      <td>47.931958</td>\n",
       "      <td>48.732570</td>\n",
       "      <td>48.71204</td>\n",
       "      <td>2.091778e+06</td>\n",
       "      <td>4570.767877</td>\n",
       "    </tr>\n",
       "    <tr>\n",
       "      <th>min</th>\n",
       "      <td>81.100000</td>\n",
       "      <td>82.800000</td>\n",
       "      <td>80.000000</td>\n",
       "      <td>81.000000</td>\n",
       "      <td>80.95000</td>\n",
       "      <td>3.961000e+04</td>\n",
       "      <td>37.040000</td>\n",
       "    </tr>\n",
       "    <tr>\n",
       "      <th>25%</th>\n",
       "      <td>120.025000</td>\n",
       "      <td>122.100000</td>\n",
       "      <td>118.300000</td>\n",
       "      <td>120.075000</td>\n",
       "      <td>120.05000</td>\n",
       "      <td>1.146444e+06</td>\n",
       "      <td>1427.460000</td>\n",
       "    </tr>\n",
       "    <tr>\n",
       "      <th>50%</th>\n",
       "      <td>141.500000</td>\n",
       "      <td>143.400000</td>\n",
       "      <td>139.600000</td>\n",
       "      <td>141.100000</td>\n",
       "      <td>141.25000</td>\n",
       "      <td>1.783456e+06</td>\n",
       "      <td>2512.030000</td>\n",
       "    </tr>\n",
       "    <tr>\n",
       "      <th>75%</th>\n",
       "      <td>157.175000</td>\n",
       "      <td>159.400000</td>\n",
       "      <td>155.150000</td>\n",
       "      <td>156.925000</td>\n",
       "      <td>156.90000</td>\n",
       "      <td>2.813594e+06</td>\n",
       "      <td>4539.015000</td>\n",
       "    </tr>\n",
       "    <tr>\n",
       "      <th>max</th>\n",
       "      <td>327.700000</td>\n",
       "      <td>328.750000</td>\n",
       "      <td>321.650000</td>\n",
       "      <td>325.950000</td>\n",
       "      <td>325.75000</td>\n",
       "      <td>2.919102e+07</td>\n",
       "      <td>55755.080000</td>\n",
       "    </tr>\n",
       "  </tbody>\n",
       "</table>\n",
       "</div>"
      ],
      "text/plain": [
       "              Open         High          Low         Last       Close  \\\n",
       "count  2035.000000  2035.000000  2035.000000  2035.000000  2035.00000   \n",
       "mean    149.713735   151.992826   147.293931   149.474251   149.45027   \n",
       "std      48.664509    49.413109    47.931958    48.732570    48.71204   \n",
       "min      81.100000    82.800000    80.000000    81.000000    80.95000   \n",
       "25%     120.025000   122.100000   118.300000   120.075000   120.05000   \n",
       "50%     141.500000   143.400000   139.600000   141.100000   141.25000   \n",
       "75%     157.175000   159.400000   155.150000   156.925000   156.90000   \n",
       "max     327.700000   328.750000   321.650000   325.950000   325.75000   \n",
       "\n",
       "       Total Trade Quantity  Turnover (Lacs)  \n",
       "count          2.035000e+03      2035.000000  \n",
       "mean           2.335681e+06      3899.980565  \n",
       "std            2.091778e+06      4570.767877  \n",
       "min            3.961000e+04        37.040000  \n",
       "25%            1.146444e+06      1427.460000  \n",
       "50%            1.783456e+06      2512.030000  \n",
       "75%            2.813594e+06      4539.015000  \n",
       "max            2.919102e+07     55755.080000  "
      ]
     },
     "execution_count": 9,
     "metadata": {},
     "output_type": "execute_result"
    }
   ],
   "source": [
    "df.describe()\n"
   ]
  },
  {
   "cell_type": "code",
   "execution_count": 10,
   "id": "c8947686",
   "metadata": {},
   "outputs": [
    {
     "data": {
      "image/png": "[encoded data removed]",
      "text/plain": [
       "<Figure size 1152x504 with 1 Axes>"
      ]
     },
     "metadata": {
      "needs_background": "light"
     },
     "output_type": "display_data"
    }
   ],
   "source": [
    "plt.figure(figsize=(10,6))\n",
    "df['Close'].plot(kind='line',figsize=(16,7),color='r',label=\"Closing Price\")\n",
    "\n",
    "plt.ylabel(\"Price\")\n",
    "plt.legend(loc=\"upper right\")\n",
    "plt.title(\"Change in closing price over the years\")\n",
    "plt.grid()"
   ]
  },
  {
   "cell_type": "code",
   "execution_count": 11,
   "id": "0269890c",
   "metadata": {},
   "outputs": [
    {
     "data": {
      "image/png": "[encoded data removed]",
      "text/plain": [
       "<Figure size 1152x504 with 1 Axes>"
      ]
     },
     "metadata": {
      "needs_background": "light"
     },
     "output_type": "display_data"
    }
   ],
   "source": [
    "plt.figure(figsize=(10,6))\n",
    "df['Open'].plot(kind='line',figsize=(16,7),color='y',label=\"Opening Price\")\n",
    "\n",
    "plt.ylabel(\"Price\")\n",
    "plt.legend(loc=\"upper left\")\n",
    "plt.title(\"Change in opening price over the years\")\n",
    "plt.grid()\n"
   ]
  },
  {
   "cell_type": "code",
   "execution_count": 12,
   "id": "e8ef3ea6",
   "metadata": {},
   "outputs": [
    {
     "data": {
      "text/plain": [
       "0       233.75\n",
       "1       233.25\n",
       "2       234.25\n",
       "3       236.10\n",
       "4       233.30\n",
       "         ...  \n",
       "2030    118.65\n",
       "2031    117.60\n",
       "2032    120.65\n",
       "2033    120.90\n",
       "2034    121.55\n",
       "Name: Close, Length: 2035, dtype: float64"
      ]
     },
     "execution_count": 12,
     "metadata": {},
     "output_type": "execute_result"
    }
   ],
   "source": [
    "df1=df.reset_index()['Close']\n",
    "df1"
   ]
  },
  {
   "cell_type": "code",
   "execution_count": 13,
   "id": "f36bc97c",
   "metadata": {},
   "outputs": [
    {
     "data": {
      "text/plain": [
       "<AxesSubplot:>"
      ]
     },
     "execution_count": 13,
     "metadata": {},
     "output_type": "execute_result"
    },
    {
     "data": {
      "image/png": "[encoded data removed]",
      "text/plain": [
       "<Figure size 864x432 with 2 Axes>"
      ]
     },
     "metadata": {
      "needs_background": "light"
     },
     "output_type": "display_data"
    }
   ],
   "source": [
    "plt.figure(figsize=(12,6))\n",
    "sns.heatmap(df.corr(),annot=True,cmap='BuPu')"
   ]
  },
  {
   "cell_type": "code",
   "execution_count": 14,
   "id": "9a9019ab",
   "metadata": {},
   "outputs": [
    {
     "data": {
      "text/plain": [
       "<AxesSubplot:ylabel='Turnover (Lacs)'>"
      ]
     },
     "execution_count": 14,
     "metadata": {},
     "output_type": "execute_result"
    },
    {
     "data": {
      "image/png": "[encoded data removed]",
      "text/plain": [
       "<Figure size 792x360 with 2 Axes>"
      ]
     },
     "metadata": {
      "needs_background": "light"
     },
     "output_type": "display_data"
    }
   ],
   "source": [
    "plt.figure(figsize=(11,5))\n",
    "plt.subplot(1,2,1)\n",
    "sns.boxplot(data=df,y='Total Trade Quantity',color='green')\n",
    "plt.subplot(1,2,2)\n",
    "sns.boxplot(data=df,y='Turnover (Lacs)',color='red')"
   ]
  },
  {
   "cell_type": "code",
   "execution_count": 15,
   "id": "c83ff121",
   "metadata": {},
   "outputs": [
    {
     "data": {
      "image/png": "[encoded data removed]",
      "text/plain": [
       "<Figure size 504x432 with 1 Axes>"
      ]
     },
     "metadata": {
      "needs_background": "light"
     },
     "output_type": "display_data"
    }
   ],
   "source": [
    "fig=plt.figure(figsize=(7,6))\n",
    "plt.scatter(df['Total Trade Quantity'],df['Turnover (Lacs)'], alpha=0.5, edgecolor='r', color='cyan')\n",
    "plt.xlabel(\"Trade Quantity (in 100000)\")\n",
    "plt.ylabel(\"Turnover (in lacs)\")\n",
    "plt.title(\" Selling Units Vs Turnover\")\n",
    "plt.show()\n"
   ]
  },
  {
   "cell_type": "code",
   "execution_count": 16,
   "id": "6dd17a90",
   "metadata": {},
   "outputs": [
    {
     "data": {
      "text/html": [
       "<div>\n",
       "<style scoped>\n",
       "    .dataframe tbody tr th:only-of-type {\n",
       "        vertical-align: middle;\n",
       "    }\n",
       "\n",
       "    .dataframe tbody tr th {\n",
       "        vertical-align: top;\n",
       "    }\n",
       "\n",
       "    .dataframe thead th {\n",
       "        text-align: right;\n",
       "    }\n",
       "</style>\n",
       "<table border=\"1\" class=\"dataframe\">\n",
       "  <thead>\n",
       "    <tr style=\"text-align: right;\">\n",
       "      <th></th>\n",
       "      <th>Open</th>\n",
       "    </tr>\n",
       "  </thead>\n",
       "  <tbody>\n",
       "    <tr>\n",
       "      <th>0</th>\n",
       "      <td>234.05</td>\n",
       "    </tr>\n",
       "    <tr>\n",
       "      <th>1</th>\n",
       "      <td>234.55</td>\n",
       "    </tr>\n",
       "    <tr>\n",
       "      <th>2</th>\n",
       "      <td>240.00</td>\n",
       "    </tr>\n",
       "    <tr>\n",
       "      <th>3</th>\n",
       "      <td>233.30</td>\n",
       "    </tr>\n",
       "    <tr>\n",
       "      <th>4</th>\n",
       "      <td>233.55</td>\n",
       "    </tr>\n",
       "    <tr>\n",
       "      <th>...</th>\n",
       "      <td>...</td>\n",
       "    </tr>\n",
       "    <tr>\n",
       "      <th>2030</th>\n",
       "      <td>117.60</td>\n",
       "    </tr>\n",
       "    <tr>\n",
       "      <th>2031</th>\n",
       "      <td>120.10</td>\n",
       "    </tr>\n",
       "    <tr>\n",
       "      <th>2032</th>\n",
       "      <td>121.80</td>\n",
       "    </tr>\n",
       "    <tr>\n",
       "      <th>2033</th>\n",
       "      <td>120.30</td>\n",
       "    </tr>\n",
       "    <tr>\n",
       "      <th>2034</th>\n",
       "      <td>122.10</td>\n",
       "    </tr>\n",
       "  </tbody>\n",
       "</table>\n",
       "<p>2035 rows × 1 columns</p>\n",
       "</div>"
      ],
      "text/plain": [
       "        Open\n",
       "0     234.05\n",
       "1     234.55\n",
       "2     240.00\n",
       "3     233.30\n",
       "4     233.55\n",
       "...      ...\n",
       "2030  117.60\n",
       "2031  120.10\n",
       "2032  121.80\n",
       "2033  120.30\n",
       "2034  122.10\n",
       "\n",
       "[2035 rows x 1 columns]"
      ]
     },
     "execution_count": 16,
     "metadata": {},
     "output_type": "execute_result"
    }
   ],
   "source": [
    "training_set= df[['Open']]\n",
    "training_set=pd.DataFrame(training_set)\n",
    "training_set\n"
   ]
  },
  {
   "cell_type": "code",
   "execution_count": 17,
   "id": "44a24f4a",
   "metadata": {},
   "outputs": [],
   "source": [
    "scaler=MinMaxScaler(feature_range=(0,1))\n",
    "training_set_scaler=scaler.fit_transform(np.array(df1).reshape(-1,1))"
   ]
  },
  {
   "cell_type": "code",
   "execution_count": 18,
   "id": "473f0f43",
   "metadata": {},
   "outputs": [
    {
     "data": {
      "text/plain": [
       "array([[0.62418301],\n",
       "       [0.62214052],\n",
       "       [0.62622549],\n",
       "       ...,\n",
       "       [0.1621732 ],\n",
       "       [0.16319444],\n",
       "       [0.16584967]])"
      ]
     },
     "execution_count": 18,
     "metadata": {},
     "output_type": "execute_result"
    }
   ],
   "source": [
    "training_set_scaler"
   ]
  },
  {
   "cell_type": "code",
   "execution_count": 19,
   "id": "f076e3df",
   "metadata": {},
   "outputs": [],
   "source": [
    "train_size1= int(len(training_set_scaler)*0.65)\n",
    "test_size1=int(len(training_set_scaler))-train_size1\n",
    "train_data1,test_data1=training_set_scaler[0:train_size1,:],training_set_scaler[train_size1:len(df),:1] "
   ]
  },
  {
   "cell_type": "code",
   "execution_count": 20,
   "id": "5f587e33",
   "metadata": {},
   "outputs": [
    {
     "data": {
      "text/plain": [
       "1322"
      ]
     },
     "execution_count": 20,
     "metadata": {},
     "output_type": "execute_result"
    }
   ],
   "source": [
    "train_size1\n"
   ]
  },
  {
   "cell_type": "code",
   "execution_count": 21,
   "id": "997a3a1e",
   "metadata": {},
   "outputs": [],
   "source": [
    "def create_dataset(dataset,time_step=1):\n",
    "    dataX, dataY = [], []\n",
    "    for i in range(len(dataset)-time_step-1):\n",
    "        a = dataset[i:(i+time_step), 0]   ###i=0, 0,1,2,3-----99   100 \n",
    "        dataX.append(a)\n",
    "        dataY.append(dataset[i + time_step, 0])\n",
    "    return np.array(dataX), np.array(dataY)"
   ]
  },
  {
   "cell_type": "code",
   "execution_count": 22,
   "id": "0bffb8c1",
   "metadata": {},
   "outputs": [],
   "source": [
    "time_step=100\n",
    "x_train, y_train=create_dataset(train_data1, time_step)\n",
    "x_test, y_test= create_dataset(test_data1, time_step)"
   ]
  },
  {
   "cell_type": "code",
   "execution_count": 23,
   "id": "c4e256a4",
   "metadata": {},
   "outputs": [
    {
     "name": "stdout",
     "output_type": "stream",
     "text": [
      "(1221, 100) (1221,)\n"
     ]
    }
   ],
   "source": [
    "print(x_train.shape,y_train.shape)"
   ]
  },
  {
   "cell_type": "code",
   "execution_count": 24,
   "id": "99f191b1",
   "metadata": {},
   "outputs": [
    {
     "data": {
      "text/plain": [
       "(612, 100)"
      ]
     },
     "execution_count": 24,
     "metadata": {},
     "output_type": "execute_result"
    }
   ],
   "source": [
    "x_test.shape\n"
   ]
  },
  {
   "cell_type": "code",
   "execution_count": 25,
   "id": "76d1e941",
   "metadata": {},
   "outputs": [
    {
     "data": {
      "text/plain": [
       "(612,)"
      ]
     },
     "execution_count": 25,
     "metadata": {},
     "output_type": "execute_result"
    }
   ],
   "source": [
    "y_test.shape"
   ]
  },
  {
   "cell_type": "code",
   "execution_count": 26,
   "id": "314eb83e",
   "metadata": {},
   "outputs": [],
   "source": [
    "x_train = x_train.reshape(x_train.shape[0],x_train.shape[1] , 1)\n",
    "x_test = x_test.reshape(x_test.shape[0],x_test.shape[1] , 1)\n"
   ]
  },
  {
   "cell_type": "code",
   "execution_count": 27,
   "id": "bc4ee10c",
   "metadata": {},
   "outputs": [],
   "source": [
    "model = Sequential()\n",
    "model.add(LSTM(50, return_sequences=True, input_shape=(100,1)))\n",
    "model.add(LSTM(50, return_sequences=True, input_shape=(100,1)))\n",
    "model.add(LSTM(50))\n",
    "model.add(Dense(1))\n",
    "model.compile(loss='mean_squared_error', optimizer='adam', metrics='acc')"
   ]
  },
  {
   "cell_type": "code",
   "execution_count": 28,
   "id": "ab2815eb",
   "metadata": {},
   "outputs": [
    {
     "name": "stdout",
     "output_type": "stream",
     "text": [
      "Model: \"sequential\"\n",
      "_________________________________________________________________\n",
      " Layer (type)                Output Shape              Param #   \n",
      "=================================================================\n",
      " lstm (LSTM)                 (None, 100, 50)           10400     \n",
      "                                                                 \n",
      " lstm_1 (LSTM)               (None, 100, 50)           20200     \n",
      "                                                                 \n",
      " lstm_2 (LSTM)               (None, 50)                20200     \n",
      "                                                                 \n",
      " dense (Dense)               (None, 1)                 51        \n",
      "                                                                 \n",
      "=================================================================\n",
      "Total params: 50,851\n",
      "Trainable params: 50,851\n",
      "Non-trainable params: 0\n",
      "_________________________________________________________________\n"
     ]
    }
   ],
   "source": [
    "model.summary()"
   ]
  },
  {
   "cell_type": "code",
   "execution_count": 29,
   "id": "29d9a658",
   "metadata": {},
   "outputs": [
    {
     "name": "stdout",
     "output_type": "stream",
     "text": [
      "Epoch 1/75\n",
      "20/20 [==============================] - 25s 244ms/step - loss: 0.0285 - acc: 8.1900e-04 - val_loss: 0.0054 - val_acc: 0.0016\n",
      "Epoch 2/75\n",
      "20/20 [==============================] - 3s 148ms/step - loss: 0.0045 - acc: 8.1900e-04 - val_loss: 0.0024 - val_acc: 0.0016\n",
      "Epoch 3/75\n",
      "20/20 [==============================] - 3s 149ms/step - loss: 0.0020 - acc: 8.1900e-04 - val_loss: 8.7407e-04 - val_acc: 0.0016\n",
      "Epoch 4/75\n",
      "20/20 [==============================] - 3s 140ms/step - loss: 0.0017 - acc: 8.1900e-04 - val_loss: 0.0014 - val_acc: 0.0016\n",
      "Epoch 5/75\n",
      "20/20 [==============================] - 3s 142ms/step - loss: 0.0018 - acc: 8.1900e-04 - val_loss: 0.0011 - val_acc: 0.0016\n",
      "Epoch 6/75\n",
      "20/20 [==============================] - 3s 142ms/step - loss: 0.0017 - acc: 8.1900e-04 - val_loss: 0.0010 - val_acc: 0.0016\n",
      "Epoch 7/75\n",
      "20/20 [==============================] - 3s 145ms/step - loss: 0.0014 - acc: 8.1900e-04 - val_loss: 9.4307e-04 - val_acc: 0.0016\n",
      "Epoch 8/75\n",
      "20/20 [==============================] - 3s 148ms/step - loss: 0.0013 - acc: 8.1900e-04 - val_loss: 8.4347e-04 - val_acc: 0.0016\n",
      "Epoch 9/75\n",
      "20/20 [==============================] - 3s 143ms/step - loss: 0.0013 - acc: 8.1900e-04 - val_loss: 0.0011 - val_acc: 0.0016\n",
      "Epoch 10/75\n",
      "20/20 [==============================] - 3s 143ms/step - loss: 0.0012 - acc: 8.1900e-04 - val_loss: 0.0012 - val_acc: 0.0016\n",
      "Epoch 11/75\n",
      "20/20 [==============================] - 3s 142ms/step - loss: 0.0013 - acc: 8.1900e-04 - val_loss: 0.0011 - val_acc: 0.0016\n",
      "Epoch 12/75\n",
      "20/20 [==============================] - 3s 144ms/step - loss: 0.0012 - acc: 8.1900e-04 - val_loss: 0.0011 - val_acc: 0.0016\n",
      "Epoch 13/75\n",
      "20/20 [==============================] - 3s 143ms/step - loss: 0.0011 - acc: 8.1900e-04 - val_loss: 9.5059e-04 - val_acc: 0.0016\n",
      "Epoch 14/75\n",
      "20/20 [==============================] - 3s 149ms/step - loss: 0.0011 - acc: 8.1900e-04 - val_loss: 8.0066e-04 - val_acc: 0.0016\n",
      "Epoch 15/75\n",
      "20/20 [==============================] - 3s 143ms/step - loss: 0.0016 - acc: 8.1900e-04 - val_loss: 6.3334e-04 - val_acc: 0.0016\n",
      "Epoch 16/75\n",
      "20/20 [==============================] - 3s 144ms/step - loss: 0.0011 - acc: 8.1900e-04 - val_loss: 8.6700e-04 - val_acc: 0.0016\n",
      "Epoch 17/75\n",
      "20/20 [==============================] - 3s 144ms/step - loss: 0.0010 - acc: 8.1900e-04 - val_loss: 7.6869e-04 - val_acc: 0.0016\n",
      "Epoch 18/75\n",
      "20/20 [==============================] - 3s 142ms/step - loss: 9.7437e-04 - acc: 8.1900e-04 - val_loss: 7.8042e-04 - val_acc: 0.0016\n",
      "Epoch 19/75\n",
      "20/20 [==============================] - 3s 147ms/step - loss: 8.8545e-04 - acc: 8.1900e-04 - val_loss: 6.6040e-04 - val_acc: 0.0016\n",
      "Epoch 20/75\n",
      "20/20 [==============================] - 3s 145ms/step - loss: 0.0010 - acc: 8.1900e-04 - val_loss: 7.3877e-04 - val_acc: 0.0016\n",
      "Epoch 21/75\n",
      "20/20 [==============================] - 3s 142ms/step - loss: 8.6823e-04 - acc: 8.1900e-04 - val_loss: 6.9345e-04 - val_acc: 0.0016\n",
      "Epoch 22/75\n",
      "20/20 [==============================] - 3s 144ms/step - loss: 8.6888e-04 - acc: 8.1900e-04 - val_loss: 7.1273e-04 - val_acc: 0.0016\n",
      "Epoch 23/75\n",
      "20/20 [==============================] - 3s 144ms/step - loss: 8.8642e-04 - acc: 8.1900e-04 - val_loss: 7.1647e-04 - val_acc: 0.0016\n",
      "Epoch 24/75\n",
      "20/20 [==============================] - 3s 144ms/step - loss: 7.7383e-04 - acc: 8.1900e-04 - val_loss: 6.5976e-04 - val_acc: 0.0016\n",
      "Epoch 25/75\n",
      "20/20 [==============================] - 3s 155ms/step - loss: 7.6766e-04 - acc: 8.1900e-04 - val_loss: 6.3680e-04 - val_acc: 0.0016\n",
      "Epoch 26/75\n",
      "20/20 [==============================] - 3s 146ms/step - loss: 7.4965e-04 - acc: 8.1900e-04 - val_loss: 5.7878e-04 - val_acc: 0.0016\n",
      "Epoch 27/75\n",
      "20/20 [==============================] - 3s 145ms/step - loss: 8.0108e-04 - acc: 8.1900e-04 - val_loss: 5.4201e-04 - val_acc: 0.0016\n",
      "Epoch 28/75\n",
      "20/20 [==============================] - 3s 145ms/step - loss: 9.1876e-04 - acc: 8.1900e-04 - val_loss: 7.3027e-04 - val_acc: 0.0016\n",
      "Epoch 29/75\n",
      "20/20 [==============================] - 3s 144ms/step - loss: 8.4896e-04 - acc: 8.1900e-04 - val_loss: 6.3652e-04 - val_acc: 0.0016\n",
      "Epoch 30/75\n",
      "20/20 [==============================] - 3s 148ms/step - loss: 7.1027e-04 - acc: 8.1900e-04 - val_loss: 6.3519e-04 - val_acc: 0.0016\n",
      "Epoch 31/75\n",
      "20/20 [==============================] - 3s 145ms/step - loss: 6.8034e-04 - acc: 8.1900e-04 - val_loss: 9.3856e-04 - val_acc: 0.0016\n",
      "Epoch 32/75\n",
      "20/20 [==============================] - 3s 147ms/step - loss: 6.9298e-04 - acc: 8.1900e-04 - val_loss: 0.0011 - val_acc: 0.0016\n",
      "Epoch 33/75\n",
      "20/20 [==============================] - 3s 169ms/step - loss: 7.6128e-04 - acc: 8.1900e-04 - val_loss: 5.7222e-04 - val_acc: 0.0016\n",
      "Epoch 34/75\n",
      "20/20 [==============================] - 3s 156ms/step - loss: 6.5012e-04 - acc: 8.1900e-04 - val_loss: 6.4059e-04 - val_acc: 0.0016\n",
      "Epoch 35/75\n",
      "20/20 [==============================] - 3s 145ms/step - loss: 6.3623e-04 - acc: 8.1900e-04 - val_loss: 8.3169e-04 - val_acc: 0.0016\n",
      "Epoch 36/75\n",
      "20/20 [==============================] - 3s 147ms/step - loss: 7.0558e-04 - acc: 8.1900e-04 - val_loss: 8.5333e-04 - val_acc: 0.0016\n",
      "Epoch 37/75\n",
      "20/20 [==============================] - 3s 149ms/step - loss: 8.2303e-04 - acc: 8.1900e-04 - val_loss: 5.5190e-04 - val_acc: 0.0016\n",
      "Epoch 38/75\n",
      "20/20 [==============================] - 3s 144ms/step - loss: 7.1962e-04 - acc: 8.1900e-04 - val_loss: 8.8766e-04 - val_acc: 0.0016\n",
      "Epoch 39/75\n",
      "20/20 [==============================] - 3s 146ms/step - loss: 6.3843e-04 - acc: 8.1900e-04 - val_loss: 5.0860e-04 - val_acc: 0.0016\n",
      "Epoch 40/75\n",
      "20/20 [==============================] - 3s 145ms/step - loss: 6.1260e-04 - acc: 8.1900e-04 - val_loss: 6.3890e-04 - val_acc: 0.0016\n",
      "Epoch 41/75\n",
      "20/20 [==============================] - 3s 149ms/step - loss: 6.1934e-04 - acc: 8.1900e-04 - val_loss: 7.2543e-04 - val_acc: 0.0016\n",
      "Epoch 42/75\n",
      "20/20 [==============================] - 3s 145ms/step - loss: 6.3173e-04 - acc: 8.1900e-04 - val_loss: 5.6254e-04 - val_acc: 0.0016\n",
      "Epoch 43/75\n",
      "20/20 [==============================] - 3s 144ms/step - loss: 6.2044e-04 - acc: 8.1900e-04 - val_loss: 6.4012e-04 - val_acc: 0.0016\n",
      "Epoch 44/75\n",
      "20/20 [==============================] - 3s 145ms/step - loss: 5.7760e-04 - acc: 8.1900e-04 - val_loss: 6.5681e-04 - val_acc: 0.0016\n",
      "Epoch 45/75\n",
      "20/20 [==============================] - 3s 146ms/step - loss: 5.5370e-04 - acc: 8.1900e-04 - val_loss: 5.0788e-04 - val_acc: 0.0016\n",
      "Epoch 46/75\n",
      "20/20 [==============================] - 3s 146ms/step - loss: 6.9845e-04 - acc: 8.1900e-04 - val_loss: 5.5204e-04 - val_acc: 0.0016\n",
      "Epoch 47/75\n",
      "20/20 [==============================] - 3s 145ms/step - loss: 5.5755e-04 - acc: 8.1900e-04 - val_loss: 6.0841e-04 - val_acc: 0.0016\n",
      "Epoch 48/75\n",
      "20/20 [==============================] - 3s 145ms/step - loss: 5.5004e-04 - acc: 8.1900e-04 - val_loss: 5.5158e-04 - val_acc: 0.0016\n",
      "Epoch 49/75\n",
      "20/20 [==============================] - 3s 144ms/step - loss: 5.8309e-04 - acc: 8.1900e-04 - val_loss: 4.9494e-04 - val_acc: 0.0016\n",
      "Epoch 50/75\n",
      "20/20 [==============================] - 3s 144ms/step - loss: 5.4568e-04 - acc: 8.1900e-04 - val_loss: 5.2868e-04 - val_acc: 0.0016\n",
      "Epoch 51/75\n",
      "20/20 [==============================] - 3s 143ms/step - loss: 5.3492e-04 - acc: 8.1900e-04 - val_loss: 5.0373e-04 - val_acc: 0.0016\n",
      "Epoch 52/75\n",
      "20/20 [==============================] - 3s 146ms/step - loss: 5.1968e-04 - acc: 8.1900e-04 - val_loss: 5.8762e-04 - val_acc: 0.0016\n",
      "Epoch 53/75\n",
      "20/20 [==============================] - 3s 144ms/step - loss: 4.9948e-04 - acc: 8.1900e-04 - val_loss: 6.6102e-04 - val_acc: 0.0016\n",
      "Epoch 54/75\n",
      "20/20 [==============================] - 3s 144ms/step - loss: 5.7124e-04 - acc: 8.1900e-04 - val_loss: 4.3580e-04 - val_acc: 0.0016\n",
      "Epoch 55/75\n",
      "20/20 [==============================] - 3s 145ms/step - loss: 6.2067e-04 - acc: 8.1900e-04 - val_loss: 7.7823e-04 - val_acc: 0.0016\n",
      "Epoch 56/75\n",
      "20/20 [==============================] - 3s 145ms/step - loss: 5.3728e-04 - acc: 8.1900e-04 - val_loss: 7.6380e-04 - val_acc: 0.0016\n",
      "Epoch 57/75\n",
      "20/20 [==============================] - 3s 148ms/step - loss: 4.9828e-04 - acc: 8.1900e-04 - val_loss: 4.8468e-04 - val_acc: 0.0016\n",
      "Epoch 58/75\n"
     ]
    },
    {
     "name": "stdout",
     "output_type": "stream",
     "text": [
      "20/20 [==============================] - 3s 157ms/step - loss: 5.7149e-04 - acc: 8.1900e-04 - val_loss: 4.0440e-04 - val_acc: 0.0016\n",
      "Epoch 59/75\n",
      "20/20 [==============================] - 3s 143ms/step - loss: 6.8517e-04 - acc: 8.1900e-04 - val_loss: 6.6455e-04 - val_acc: 0.0016\n",
      "Epoch 60/75\n",
      "20/20 [==============================] - 3s 145ms/step - loss: 6.7026e-04 - acc: 8.1900e-04 - val_loss: 5.4864e-04 - val_acc: 0.0016\n",
      "Epoch 61/75\n",
      "20/20 [==============================] - 3s 144ms/step - loss: 5.4193e-04 - acc: 8.1900e-04 - val_loss: 4.3775e-04 - val_acc: 0.0016\n",
      "Epoch 62/75\n",
      "20/20 [==============================] - 3s 143ms/step - loss: 4.6601e-04 - acc: 8.1900e-04 - val_loss: 5.8235e-04 - val_acc: 0.0016\n",
      "Epoch 63/75\n",
      "20/20 [==============================] - 3s 149ms/step - loss: 5.1872e-04 - acc: 8.1900e-04 - val_loss: 5.2516e-04 - val_acc: 0.0016\n",
      "Epoch 64/75\n",
      "20/20 [==============================] - 3s 145ms/step - loss: 5.0762e-04 - acc: 8.1900e-04 - val_loss: 4.3594e-04 - val_acc: 0.0016\n",
      "Epoch 65/75\n",
      "20/20 [==============================] - 3s 144ms/step - loss: 5.2574e-04 - acc: 8.1900e-04 - val_loss: 4.6813e-04 - val_acc: 0.0016\n",
      "Epoch 66/75\n",
      "20/20 [==============================] - 3s 141ms/step - loss: 4.4459e-04 - acc: 8.1900e-04 - val_loss: 4.6027e-04 - val_acc: 0.0016\n",
      "Epoch 67/75\n",
      "20/20 [==============================] - 3s 144ms/step - loss: 4.4750e-04 - acc: 8.1900e-04 - val_loss: 5.5306e-04 - val_acc: 0.0016\n",
      "Epoch 68/75\n",
      "20/20 [==============================] - 3s 151ms/step - loss: 4.5120e-04 - acc: 8.1900e-04 - val_loss: 3.8493e-04 - val_acc: 0.0016\n",
      "Epoch 69/75\n",
      "20/20 [==============================] - 3s 159ms/step - loss: 5.1999e-04 - acc: 8.1900e-04 - val_loss: 5.1269e-04 - val_acc: 0.0016\n",
      "Epoch 70/75\n",
      "20/20 [==============================] - 3s 145ms/step - loss: 4.1766e-04 - acc: 8.1900e-04 - val_loss: 4.5122e-04 - val_acc: 0.0016\n",
      "Epoch 71/75\n",
      "20/20 [==============================] - 3s 146ms/step - loss: 4.4783e-04 - acc: 8.1900e-04 - val_loss: 4.9910e-04 - val_acc: 0.0016\n",
      "Epoch 72/75\n",
      "20/20 [==============================] - 3s 145ms/step - loss: 4.7309e-04 - acc: 8.1900e-04 - val_loss: 4.5704e-04 - val_acc: 0.0016\n",
      "Epoch 73/75\n",
      "20/20 [==============================] - 3s 145ms/step - loss: 4.2282e-04 - acc: 8.1900e-04 - val_loss: 4.5910e-04 - val_acc: 0.0016\n",
      "Epoch 74/75\n",
      "20/20 [==============================] - 3s 151ms/step - loss: 3.9236e-04 - acc: 8.1900e-04 - val_loss: 4.5146e-04 - val_acc: 0.0016\n",
      "Epoch 75/75\n",
      "20/20 [==============================] - 3s 145ms/step - loss: 3.7835e-04 - acc: 8.1900e-04 - val_loss: 4.3151e-04 - val_acc: 0.0016\n"
     ]
    },
    {
     "data": {
      "text/plain": [
       "<keras.callbacks.History at 0x18fe86d17f0>"
      ]
     },
     "execution_count": 29,
     "metadata": {},
     "output_type": "execute_result"
    }
   ],
   "source": [
    "model.fit(x_train, y_train, validation_data = (x_test, y_test), epochs = 75, batch_size = 64, verbose = 1)\n"
   ]
  },
  {
   "cell_type": "code",
   "execution_count": 30,
   "id": "22c80955",
   "metadata": {},
   "outputs": [],
   "source": [
    "train_predict1=model.predict(x_train)\n",
    "test_predict1=model.predict(x_test)\n",
    "#Transformback to original form\n",
    "train_predict1=scaler.inverse_transform(train_predict1)\n",
    "test_predict1=scaler.inverse_transform(test_predict1)"
   ]
  },
  {
   "cell_type": "code",
   "execution_count": 33,
   "id": "bc36abc3",
   "metadata": {},
   "outputs": [
    {
     "data": {
      "text/plain": [
       "166.5952280957759"
      ]
     },
     "execution_count": 33,
     "metadata": {},
     "output_type": "execute_result"
    }
   ],
   "source": [
    "math.sqrt(mean_squared_error(y_train,train_predict1))"
   ]
  },
  {
   "cell_type": "code",
   "execution_count": 34,
   "id": "5ade55e9",
   "metadata": {},
   "outputs": [
    {
     "data": {
      "text/plain": [
       "117.40048302972639"
      ]
     },
     "execution_count": 34,
     "metadata": {},
     "output_type": "execute_result"
    }
   ],
   "source": [
    "math.sqrt(mean_squared_error(y_test,test_predict1))"
   ]
  },
  {
   "cell_type": "code",
   "execution_count": 35,
   "id": "ba1eb4c7",
   "metadata": {},
   "outputs": [
    {
     "data": {
      "image/png": "[encoded data removed]",
      "text/plain": [
       "<Figure size 720x360 with 1 Axes>"
      ]
     },
     "metadata": {
      "needs_background": "light"
     },
     "output_type": "display_data"
    }
   ],
   "source": [
    "### Plotting \n",
    "# shift train predictions for plotting\n",
    "look_back=100\n",
    "trainPredictPlot = np.empty_like(training_set_scaler)\n",
    "trainPredictPlot[:, :] = np.nan\n",
    "trainPredictPlot[look_back:len(train_predict1)+look_back, :] = train_predict1\n",
    "\n",
    "# shift test predictions for plotting\n",
    "testPredictPlot = np.empty_like(training_set_scaler)\n",
    "testPredictPlot[:, :] = np.nan\n",
    "testPredictPlot[len(train_predict1)+(look_back*2)+1:len(df1)-1, :] = test_predict1\n",
    "\n",
    "# plot baseline and predictions\n",
    "plt.figure(figsize=(10,5))\n",
    "plt.plot(scaler.inverse_transform(training_set_scaler))\n",
    "plt.plot(trainPredictPlot)\n",
    "plt.plot(testPredictPlot)\n",
    "plt.show()"
   ]
  },
  {
   "cell_type": "code",
   "execution_count": null,
   "id": "bee55930",
   "metadata": {},
   "outputs": [],
   "source": []
  }
 ],
 "metadata": {
  "kernelspec": {
   "display_name": "Python 3 (ipykernel)",
   "language": "python",
   "name": "python3"
  },
  "language_info": {
   "codemirror_mode": {
    "name": "ipython",
    "version": 3
   },
   "file_extension": ".py",
   "mimetype": "text/x-python",
   "name": "python",
   "nbconvert_exporter": "python",
   "pygments_lexer": "ipython3",
   "version": "3.8.5"
  }
 },
 "nbformat": 4,
 "nbformat_minor": 5
}
